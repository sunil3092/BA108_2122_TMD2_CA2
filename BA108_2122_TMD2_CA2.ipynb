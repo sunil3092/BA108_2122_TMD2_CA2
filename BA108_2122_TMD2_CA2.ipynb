{
 "cells": [
  {
   "cell_type": "markdown",
   "metadata": {},
   "source": [
    "## <p style=\"text-align: center;\">BA108_2122_TMD2_CA_2</p>\n",
    "### <p style=\"text-align: center;\"> Details </p>\n",
    "#### <p style=\"text-align: center;\">Name: Sunil Judhistira Gauda</p>\n",
    "#### <p style=\"text-align: center;\">Student ID : 10595858 </p>\n",
    "##### <p style=\"text-align: center;\">Github : https://github.com/sunil3092/BA108_2122_TMD2_CA2 </p>"
   ]
  },
  {
   "cell_type": "code",
   "execution_count": 1,
   "metadata": {},
   "outputs": [],
   "source": [
    "import requests as req\n",
    "from bs4 import BeautifulSoup\n",
    "import re\n",
    "import time\n",
    "import sqlite3\n",
    "import pandas as pd\n",
    "import uuid"
   ]
  },
  {
   "cell_type": "code",
   "execution_count": 2,
   "metadata": {},
   "outputs": [],
   "source": [
    "def manage_tags(html, tags):\n",
    "    soup = BeautifulSoup(html, \"html.parser\")\n",
    "\n",
    "    for page_data in soup(tags):\n",
    "        page_data.decompose()\n",
    "\n",
    "    return ''.join(soup.stripped_strings)"
   ]
  },
  {
   "cell_type": "code",
   "execution_count": 3,
   "metadata": {},
   "outputs": [],
   "source": [
    "top_rated_list = []"
   ]
  },
  {
   "cell_type": "code",
   "execution_count": 4,
   "metadata": {},
   "outputs": [],
   "source": [
    "page_number = [1,2,3,4,5]\n"
   ]
  },
  {
   "cell_type": "code",
   "execution_count": 5,
   "metadata": {},
   "outputs": [],
   "source": [
    "for num in page_number:\n",
    "     url = \"https://www.swiggy.com/city/mumbai/top-rated-collection?page=\" + str(num)\n",
    "     request = req.get(url)\n",
    "     soup = BeautifulSoup(request.content)\n",
    "     div = soup.find_all(\"div\", {\"class\" : \"_3FR5S\"})\n",
    "     time.sleep(10)\n",
    "     for i in range( len(div)):\n",
    "          top_rated = {}\n",
    "          top_rated[\"name\"] = div[i].find(\"div\", {\"class\" : \"nA6kb\"}).text\n",
    "          top_rated[\"type\"] = div[i].find(\"div\", {\"class\" : \"_1gURR\"}).text\n",
    "          top_rated[\"rating\"] = float(re.sub('\\D','',div[i].find(\"div\", {\"class\" : \"_9uwBC\"}).text))\n",
    "          stringValue = div[i].find(\"div\", {\"class\" : \"_3Mn31\"}).text\n",
    "          split_string = stringValue.split(\"•\")\n",
    "          top_rated[\"deliviery_time\"] = int(re.sub('\\D','',split_string[1]))\n",
    "          top_rated[\"price_for_two\"] = int(re.sub('\\D','',split_string[2]))\n",
    "          discount = div[i].find(\"span\", {\"class\" : \"sNAfh\"})\n",
    "          if discount is not None:\n",
    "               discount = discount.text\n",
    "               discount = discount.split(\"|\")\n",
    "               if len(discount) == 1:\n",
    "                    top_rated[\"discount\"] = 0\n",
    "                    top_rated[\"discount_code\"] = discount\n",
    "               elif len(discount) > 0:\n",
    "                    top_rated[\"discount\"] = int(re.sub('\\D','', discount[0]))\n",
    "                    top_rated[\"discount_code\"] = re.sub(\" \",\"\",discount[1].replace(\"Use \", \"\"))\n",
    "\n",
    "          else:\n",
    "               top_rated[\"discount\"] = 0\n",
    "               top_rated[\"discount_code\"] = \"\"\n",
    "          top_rated_list.append(top_rated)"
   ]
  },
  {
   "cell_type": "code",
   "execution_count": 6,
   "metadata": {},
   "outputs": [],
   "source": [
    "top_list_df = pd.DataFrame(top_rated_list)\n",
    "top_list_df['discountId'] = top_list_df[[\"discount_code\"]].sum(axis=1).map(hash)"
   ]
  },
  {
   "cell_type": "code",
   "execution_count": 7,
   "metadata": {},
   "outputs": [],
   "source": [
    "discount_df = top_list_df[[\"discount_code\", \"discount\", \"discountId\"]]"
   ]
  },
  {
   "cell_type": "code",
   "execution_count": 8,
   "metadata": {},
   "outputs": [],
   "source": [
    "discount_df = discount_df.drop_duplicates()"
   ]
  },
  {
   "cell_type": "code",
   "execution_count": 9,
   "metadata": {},
   "outputs": [],
   "source": [
    "discount_df = discount_df[discount_df[\"discount_code\"] != '']"
   ]
  },
  {
   "cell_type": "code",
   "execution_count": 10,
   "metadata": {},
   "outputs": [
    {
     "data": {
      "text/html": [
       "<div>\n",
       "<style scoped>\n",
       "    .dataframe tbody tr th:only-of-type {\n",
       "        vertical-align: middle;\n",
       "    }\n",
       "\n",
       "    .dataframe tbody tr th {\n",
       "        vertical-align: top;\n",
       "    }\n",
       "\n",
       "    .dataframe thead th {\n",
       "        text-align: right;\n",
       "    }\n",
       "</style>\n",
       "<table border=\"1\" class=\"dataframe\">\n",
       "  <thead>\n",
       "    <tr style=\"text-align: right;\">\n",
       "      <th></th>\n",
       "      <th>discount_code</th>\n",
       "      <th>discount</th>\n",
       "      <th>discountId</th>\n",
       "    </tr>\n",
       "  </thead>\n",
       "  <tbody>\n",
       "    <tr>\n",
       "      <th>0</th>\n",
       "      <td>WELCOME50</td>\n",
       "      <td>50</td>\n",
       "      <td>-396299740802975704</td>\n",
       "    </tr>\n",
       "    <tr>\n",
       "      <th>5</th>\n",
       "      <td>TRYNEW</td>\n",
       "      <td>60</td>\n",
       "      <td>6270345446514787261</td>\n",
       "    </tr>\n",
       "    <tr>\n",
       "      <th>10</th>\n",
       "      <td>STEALDEAL</td>\n",
       "      <td>60</td>\n",
       "      <td>-8402913390663284998</td>\n",
       "    </tr>\n",
       "    <tr>\n",
       "      <th>11</th>\n",
       "      <td>TRYNEW</td>\n",
       "      <td>50</td>\n",
       "      <td>6270345446514787261</td>\n",
       "    </tr>\n",
       "    <tr>\n",
       "      <th>71</th>\n",
       "      <td>SPECIALS</td>\n",
       "      <td>50</td>\n",
       "      <td>8448648663248268164</td>\n",
       "    </tr>\n",
       "  </tbody>\n",
       "</table>\n",
       "</div>"
      ],
      "text/plain": [
       "   discount_code  discount           discountId\n",
       "0      WELCOME50        50  -396299740802975704\n",
       "5         TRYNEW        60  6270345446514787261\n",
       "10     STEALDEAL        60 -8402913390663284998\n",
       "11        TRYNEW        50  6270345446514787261\n",
       "71      SPECIALS        50  8448648663248268164"
      ]
     },
     "execution_count": 10,
     "metadata": {},
     "output_type": "execute_result"
    }
   ],
   "source": [
    "discount_df"
   ]
  },
  {
   "cell_type": "code",
   "execution_count": 11,
   "metadata": {},
   "outputs": [],
   "source": [
    "def db_manager():\n",
    "    conn = conn = sqlite3.connect('swiggytop.db')\n",
    "    return conn"
   ]
  },
  {
   "cell_type": "code",
   "execution_count": 12,
   "metadata": {},
   "outputs": [],
   "source": [
    "def write_data_to_db(df,table_name, conn, if_exists_val = 'replace', index_val = False):\n",
    "    df.to_sql(name=table_name, con=conn, if_exists = if_exists_val, index = index_val )"
   ]
  },
  {
   "cell_type": "code",
   "execution_count": 13,
   "metadata": {},
   "outputs": [],
   "source": [
    "conn_obj = db_manager()"
   ]
  },
  {
   "cell_type": "code",
   "execution_count": 15,
   "metadata": {},
   "outputs": [],
   "source": [
    "top_list_df = top_list_df.drop([\"discount\", \"discount_code\"], axis=1)\n",
    "write_data_to_db(top_list_df,\"SWIGGYTOP\", conn_obj, 'replace', False)"
   ]
  },
  {
   "cell_type": "code",
   "execution_count": 16,
   "metadata": {},
   "outputs": [],
   "source": [
    "write_data_to_db(discount_df,\"DISCOUNT\", conn_obj, 'replace', False)"
   ]
  },
  {
   "cell_type": "code",
   "execution_count": 17,
   "metadata": {},
   "outputs": [
    {
     "data": {
      "text/html": [
       "<div>\n",
       "<style scoped>\n",
       "    .dataframe tbody tr th:only-of-type {\n",
       "        vertical-align: middle;\n",
       "    }\n",
       "\n",
       "    .dataframe tbody tr th {\n",
       "        vertical-align: top;\n",
       "    }\n",
       "\n",
       "    .dataframe thead th {\n",
       "        text-align: right;\n",
       "    }\n",
       "</style>\n",
       "<table border=\"1\" class=\"dataframe\">\n",
       "  <thead>\n",
       "    <tr style=\"text-align: right;\">\n",
       "      <th></th>\n",
       "      <th>name</th>\n",
       "      <th>type</th>\n",
       "      <th>rating</th>\n",
       "      <th>deliviery_time</th>\n",
       "      <th>price_for_two</th>\n",
       "      <th>discountId</th>\n",
       "    </tr>\n",
       "  </thead>\n",
       "  <tbody>\n",
       "    <tr>\n",
       "      <th>0</th>\n",
       "      <td>TBHC</td>\n",
       "      <td>Beverages, Pastas, American, Snacks</td>\n",
       "      <td>50.0</td>\n",
       "      <td>64</td>\n",
       "      <td>750</td>\n",
       "      <td>-396299740802975704</td>\n",
       "    </tr>\n",
       "    <tr>\n",
       "      <th>1</th>\n",
       "      <td>The Neapolitan Oven</td>\n",
       "      <td>Pizzas, Salads</td>\n",
       "      <td>50.0</td>\n",
       "      <td>70</td>\n",
       "      <td>750</td>\n",
       "      <td>-396299740802975704</td>\n",
       "    </tr>\n",
       "    <tr>\n",
       "      <th>2</th>\n",
       "      <td>Jiaozi - The Asian Kitchen</td>\n",
       "      <td>Asian, Chinese</td>\n",
       "      <td>50.0</td>\n",
       "      <td>67</td>\n",
       "      <td>450</td>\n",
       "      <td>-396299740802975704</td>\n",
       "    </tr>\n",
       "    <tr>\n",
       "      <th>3</th>\n",
       "      <td>Sagarika Restaurant</td>\n",
       "      <td>Indian, Chinese</td>\n",
       "      <td>50.0</td>\n",
       "      <td>50</td>\n",
       "      <td>300</td>\n",
       "      <td>0</td>\n",
       "    </tr>\n",
       "    <tr>\n",
       "      <th>4</th>\n",
       "      <td>GoodDo- The Vegan Eatery</td>\n",
       "      <td>Fast Food, North Indian, Beverages</td>\n",
       "      <td>50.0</td>\n",
       "      <td>49</td>\n",
       "      <td>300</td>\n",
       "      <td>-396299740802975704</td>\n",
       "    </tr>\n",
       "    <tr>\n",
       "      <th>...</th>\n",
       "      <td>...</td>\n",
       "      <td>...</td>\n",
       "      <td>...</td>\n",
       "      <td>...</td>\n",
       "      <td>...</td>\n",
       "      <td>...</td>\n",
       "    </tr>\n",
       "    <tr>\n",
       "      <th>75</th>\n",
       "      <td>Nothing But Chicken</td>\n",
       "      <td>Salads, Fast Food, Raw meats</td>\n",
       "      <td>46.0</td>\n",
       "      <td>29</td>\n",
       "      <td>400</td>\n",
       "      <td>-396299740802975704</td>\n",
       "    </tr>\n",
       "    <tr>\n",
       "      <th>76</th>\n",
       "      <td>Churolls &amp; Co.</td>\n",
       "      <td>Desserts, Beverages</td>\n",
       "      <td>45.0</td>\n",
       "      <td>63</td>\n",
       "      <td>500</td>\n",
       "      <td>-396299740802975704</td>\n",
       "    </tr>\n",
       "    <tr>\n",
       "      <th>77</th>\n",
       "      <td>Jeevan</td>\n",
       "      <td>North Indian, Chinese, South Indian</td>\n",
       "      <td>45.0</td>\n",
       "      <td>63</td>\n",
       "      <td>550</td>\n",
       "      <td>-396299740802975704</td>\n",
       "    </tr>\n",
       "    <tr>\n",
       "      <th>78</th>\n",
       "      <td>Aditi Fast Food</td>\n",
       "      <td>Street Food, North Indian, Chinese, South Indi...</td>\n",
       "      <td>45.0</td>\n",
       "      <td>70</td>\n",
       "      <td>500</td>\n",
       "      <td>-396299740802975704</td>\n",
       "    </tr>\n",
       "    <tr>\n",
       "      <th>79</th>\n",
       "      <td>Heerson</td>\n",
       "      <td>Sweets</td>\n",
       "      <td>45.0</td>\n",
       "      <td>54</td>\n",
       "      <td>300</td>\n",
       "      <td>-396299740802975704</td>\n",
       "    </tr>\n",
       "  </tbody>\n",
       "</table>\n",
       "<p>80 rows × 6 columns</p>\n",
       "</div>"
      ],
      "text/plain": [
       "                          name  \\\n",
       "0                         TBHC   \n",
       "1          The Neapolitan Oven   \n",
       "2   Jiaozi - The Asian Kitchen   \n",
       "3          Sagarika Restaurant   \n",
       "4     GoodDo- The Vegan Eatery   \n",
       "..                         ...   \n",
       "75         Nothing But Chicken   \n",
       "76              Churolls & Co.   \n",
       "77                      Jeevan   \n",
       "78             Aditi Fast Food   \n",
       "79                     Heerson   \n",
       "\n",
       "                                                 type  rating  deliviery_time  \\\n",
       "0                 Beverages, Pastas, American, Snacks    50.0              64   \n",
       "1                                      Pizzas, Salads    50.0              70   \n",
       "2                                      Asian, Chinese    50.0              67   \n",
       "3                                     Indian, Chinese    50.0              50   \n",
       "4                  Fast Food, North Indian, Beverages    50.0              49   \n",
       "..                                                ...     ...             ...   \n",
       "75                       Salads, Fast Food, Raw meats    46.0              29   \n",
       "76                                Desserts, Beverages    45.0              63   \n",
       "77                North Indian, Chinese, South Indian    45.0              63   \n",
       "78  Street Food, North Indian, Chinese, South Indi...    45.0              70   \n",
       "79                                             Sweets    45.0              54   \n",
       "\n",
       "    price_for_two          discountId  \n",
       "0             750 -396299740802975704  \n",
       "1             750 -396299740802975704  \n",
       "2             450 -396299740802975704  \n",
       "3             300                   0  \n",
       "4             300 -396299740802975704  \n",
       "..            ...                 ...  \n",
       "75            400 -396299740802975704  \n",
       "76            500 -396299740802975704  \n",
       "77            550 -396299740802975704  \n",
       "78            500 -396299740802975704  \n",
       "79            300 -396299740802975704  \n",
       "\n",
       "[80 rows x 6 columns]"
      ]
     },
     "execution_count": 17,
     "metadata": {},
     "output_type": "execute_result"
    }
   ],
   "source": [
    "top_list_df"
   ]
  },
  {
   "cell_type": "code",
   "execution_count": 19,
   "metadata": {},
   "outputs": [
    {
     "data": {
      "text/html": [
       "<div>\n",
       "<style scoped>\n",
       "    .dataframe tbody tr th:only-of-type {\n",
       "        vertical-align: middle;\n",
       "    }\n",
       "\n",
       "    .dataframe tbody tr th {\n",
       "        vertical-align: top;\n",
       "    }\n",
       "\n",
       "    .dataframe thead th {\n",
       "        text-align: right;\n",
       "    }\n",
       "</style>\n",
       "<table border=\"1\" class=\"dataframe\">\n",
       "  <thead>\n",
       "    <tr style=\"text-align: right;\">\n",
       "      <th></th>\n",
       "      <th>discount_code</th>\n",
       "      <th>discount</th>\n",
       "      <th>discountId</th>\n",
       "    </tr>\n",
       "  </thead>\n",
       "  <tbody>\n",
       "    <tr>\n",
       "      <th>0</th>\n",
       "      <td>WELCOME50</td>\n",
       "      <td>50</td>\n",
       "      <td>-396299740802975704</td>\n",
       "    </tr>\n",
       "    <tr>\n",
       "      <th>5</th>\n",
       "      <td>TRYNEW</td>\n",
       "      <td>60</td>\n",
       "      <td>6270345446514787261</td>\n",
       "    </tr>\n",
       "    <tr>\n",
       "      <th>10</th>\n",
       "      <td>STEALDEAL</td>\n",
       "      <td>60</td>\n",
       "      <td>-8402913390663284998</td>\n",
       "    </tr>\n",
       "    <tr>\n",
       "      <th>11</th>\n",
       "      <td>TRYNEW</td>\n",
       "      <td>50</td>\n",
       "      <td>6270345446514787261</td>\n",
       "    </tr>\n",
       "    <tr>\n",
       "      <th>71</th>\n",
       "      <td>SPECIALS</td>\n",
       "      <td>50</td>\n",
       "      <td>8448648663248268164</td>\n",
       "    </tr>\n",
       "  </tbody>\n",
       "</table>\n",
       "</div>"
      ],
      "text/plain": [
       "   discount_code  discount           discountId\n",
       "0      WELCOME50        50  -396299740802975704\n",
       "5         TRYNEW        60  6270345446514787261\n",
       "10     STEALDEAL        60 -8402913390663284998\n",
       "11        TRYNEW        50  6270345446514787261\n",
       "71      SPECIALS        50  8448648663248268164"
      ]
     },
     "execution_count": 19,
     "metadata": {},
     "output_type": "execute_result"
    }
   ],
   "source": [
    "discount_df"
   ]
  },
  {
   "cell_type": "code",
   "execution_count": null,
   "metadata": {},
   "outputs": [],
   "source": []
  }
 ],
 "metadata": {
  "interpreter": {
   "hash": "770de8dd6b209f8d3e8fd0cc8c5ca67965109b50de697453c6f2fa2334472852"
  },
  "kernelspec": {
   "display_name": "Python 3.9.7 ('base')",
   "language": "python",
   "name": "python3"
  },
  "language_info": {
   "codemirror_mode": {
    "name": "ipython",
    "version": 3
   },
   "file_extension": ".py",
   "mimetype": "text/x-python",
   "name": "python",
   "nbconvert_exporter": "python",
   "pygments_lexer": "ipython3",
   "version": "3.9.7"
  },
  "orig_nbformat": 4
 },
 "nbformat": 4,
 "nbformat_minor": 2
}
