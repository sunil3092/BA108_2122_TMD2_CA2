{
 "cells": [
  {
   "cell_type": "markdown",
   "metadata": {},
   "source": [
    "## <p style=\"text-align: center;\">BA108_2122_TMD2_CA_2</p>\n",
    "### <p style=\"text-align: center;\"> Details </p>\n",
    "#### <p style=\"text-align: center;\">Name: Sunil Judhistira Gauda</p>\n",
    "#### <p style=\"text-align: center;\">Student ID : 10595858 </p>\n",
    "##### <p style=\"text-align: center;\">Github : https://github.com/sunil3092/BA108_2122_TMD2_CA2 </p>"
   ]
  },
  {
   "cell_type": "code",
   "execution_count": 43,
   "metadata": {},
   "outputs": [],
   "source": [
    "import requests as req\n",
    "from bs4 import BeautifulSoup\n",
    "import re\n",
    "import time\n",
    "import sqlite3\n",
    "import pandas as pd"
   ]
  },
  {
   "cell_type": "code",
   "execution_count": 44,
   "metadata": {},
   "outputs": [],
   "source": [
    "def manage_tags(html, tags):\n",
    "    soup = BeautifulSoup(html, \"html.parser\")\n",
    "\n",
    "    for page_data in soup(tags):\n",
    "        page_data.decompose()\n",
    "\n",
    "    return ''.join(soup.stripped_strings)"
   ]
  },
  {
   "cell_type": "code",
   "execution_count": 45,
   "metadata": {},
   "outputs": [],
   "source": [
    "top_rated_list = []"
   ]
  },
  {
   "cell_type": "code",
   "execution_count": 46,
   "metadata": {},
   "outputs": [],
   "source": [
    "page_number = [1,2,3,4,5]\n"
   ]
  },
  {
   "cell_type": "code",
   "execution_count": 47,
   "metadata": {},
   "outputs": [],
   "source": [
    "for num in page_number:\n",
    "     url = \"https://www.swiggy.com/city/mumbai/top-rated-collection?page=\" + str(num)\n",
    "     request = req.get(url)\n",
    "     soup = BeautifulSoup(request.content)\n",
    "     div = soup.find_all(\"div\", {\"class\" : \"_3FR5S\"})\n",
    "     time.sleep(10)\n",
    "     for i in range( len(div)):\n",
    "          top_rated = {}\n",
    "          top_rated[\"name\"] = div[i].find(\"div\", {\"class\" : \"nA6kb\"}).text\n",
    "          top_rated[\"type\"] = div[i].find(\"div\", {\"class\" : \"_1gURR\"}).text\n",
    "          top_rated[\"rating\"] = float(re.sub('\\D','',div[i].find(\"div\", {\"class\" : \"_9uwBC\"}).text))\n",
    "          stringValue = div[i].find(\"div\", {\"class\" : \"_3Mn31\"}).text\n",
    "          split_string = stringValue.split(\"•\")\n",
    "          top_rated[\"deliviery_time\"] = int(re.sub('\\D','',split_string[1]))\n",
    "          top_rated[\"price_for_two\"] = int(re.sub('\\D','',split_string[2]))\n",
    "          discount = div[i].find(\"span\", {\"class\" : \"sNAfh\"})\n",
    "          if discount is not None:\n",
    "               discount = discount.text\n",
    "               discount = discount.split(\"|\")\n",
    "               if len(discount) == 1:\n",
    "                    top_rated[\"discount\"] = 0\n",
    "                    top_rated[\"discount_code\"] = discount\n",
    "               elif len(discount) > 0:\n",
    "                    top_rated[\"discount\"] = int(re.sub('\\D','', discount[0]))\n",
    "                    top_rated[\"discount_code\"] = re.sub(\" \",\"\",discount[1].replace(\"Use \", \"\"))\n",
    "\n",
    "          else:\n",
    "               top_rated[\"discount\"] = 0\n",
    "               top_rated[\"discount_code\"] = \"\"\n",
    "          top_rated_list.append(top_rated)"
   ]
  },
  {
   "cell_type": "code",
   "execution_count": 54,
   "metadata": {},
   "outputs": [],
   "source": [
    "top_list_df = pd.DataFrame(top_rated_list)"
   ]
  },
  {
   "cell_type": "code",
   "execution_count": 55,
   "metadata": {},
   "outputs": [],
   "source": [
    "conn = sqlite3.connect('swiggytop.db')"
   ]
  },
  {
   "cell_type": "code",
   "execution_count": 56,
   "metadata": {},
   "outputs": [
    {
     "data": {
      "text/plain": [
       "80"
      ]
     },
     "execution_count": 56,
     "metadata": {},
     "output_type": "execute_result"
    }
   ],
   "source": [
    "top_list_df.to_sql(name=\"SWIGGYTOP\", con=conn, if_exists='replace', index=False )"
   ]
  },
  {
   "cell_type": "code",
   "execution_count": 49,
   "metadata": {},
   "outputs": [],
   "source": [
    "use_sqlite3 = True\n"
   ]
  }
 ],
 "metadata": {
  "interpreter": {
   "hash": "770de8dd6b209f8d3e8fd0cc8c5ca67965109b50de697453c6f2fa2334472852"
  },
  "kernelspec": {
   "display_name": "Python 3.9.7 ('base')",
   "language": "python",
   "name": "python3"
  },
  "language_info": {
   "codemirror_mode": {
    "name": "ipython",
    "version": 3
   },
   "file_extension": ".py",
   "mimetype": "text/x-python",
   "name": "python",
   "nbconvert_exporter": "python",
   "pygments_lexer": "ipython3",
   "version": "3.9.7"
  },
  "orig_nbformat": 4
 },
 "nbformat": 4,
 "nbformat_minor": 2
}
