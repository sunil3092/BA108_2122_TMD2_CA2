{
 "cells": [
  {
   "cell_type": "markdown",
   "metadata": {},
   "source": [
    "## <p style=\"text-align: center;\">BA108_2122_TMD2_CA_2</p>\n",
    "### <p style=\"text-align: center;\"> Details </p>\n",
    "#### <p style=\"text-align: center;\">Name: Sunil Judhistira Gauda</p>\n",
    "#### <p style=\"text-align: center;\">Student ID : 10595858 </p>\n",
    "##### <p style=\"text-align: center;\">Github : https://github.com/sunil3092/BA108_2122_TMD2_CA2 </p>"
   ]
  },
  {
   "cell_type": "code",
   "execution_count": 126,
   "metadata": {},
   "outputs": [],
   "source": [
    "import requests as req\n",
    "from bs4 import BeautifulSoup\n",
    "import re\n",
    "import time\n",
    "import sqlite3"
   ]
  },
  {
   "cell_type": "code",
   "execution_count": 127,
   "metadata": {},
   "outputs": [],
   "source": [
    "def manage_tags(html, tags):\n",
    "    soup = BeautifulSoup(html, \"html.parser\")\n",
    "\n",
    "    for page_data in soup(tags):\n",
    "        page_data.decompose()\n",
    "\n",
    "    return ''.join(soup.stripped_strings)"
   ]
  },
  {
   "cell_type": "code",
   "execution_count": 128,
   "metadata": {},
   "outputs": [],
   "source": [
    "top_rated_list = []"
   ]
  },
  {
   "cell_type": "code",
   "execution_count": 129,
   "metadata": {},
   "outputs": [],
   "source": [
    "page_number = [1,2,3,4,5]\n"
   ]
  },
  {
   "cell_type": "code",
   "execution_count": 130,
   "metadata": {},
   "outputs": [],
   "source": [
    "for num in page_number:\n",
    "     url = \"https://www.swiggy.com/city/mumbai/top-rated-collection?page=\" + str(num)\n",
    "     request = req.get(url)\n",
    "     soup = BeautifulSoup(request.content)\n",
    "     div = soup.find_all(\"div\", {\"class\" : \"_3FR5S\"})\n",
    "     time.sleep(10)\n",
    "     for i in range( len(div)):\n",
    "          top_rated = {}\n",
    "          top_rated[\"name\"] = div[i].find(\"div\", {\"class\" : \"nA6kb\"}).text\n",
    "          top_rated[\"type\"] = div[i].find(\"div\", {\"class\" : \"_1gURR\"}).text\n",
    "          top_rated[\"rating\"] = float(re.sub('\\D','',div[i].find(\"div\", {\"class\" : \"_9uwBC\"}).text))\n",
    "          stringValue = div[i].find(\"div\", {\"class\" : \"_3Mn31\"}).text\n",
    "          split_string = stringValue.split(\"•\")\n",
    "          top_rated[\"deliviery_time\"] = int(re.sub('\\D','',split_string[1]))\n",
    "          top_rated[\"price_for_two\"] = int(re.sub('\\D','',split_string[2]))\n",
    "          discount = div[i].find(\"span\", {\"class\" : \"sNAfh\"})\n",
    "          if discount is not None:\n",
    "               discount = discount.text\n",
    "               if len(discount) > 0:\n",
    "                    top_rated[\"discount\"] = int(re.sub('\\D','', discount.split(\"|\")[0]))\n",
    "                    top_rated[\"discount_code\"] = re.sub(\" \",\"\",discount.split(\"|\")[1].replace(\"Use \", \"\"))\n",
    "               else:\n",
    "                    top_rated[\"discount\"] = 0\n",
    "                    top_rated[\"discount_code\"] = \"\"\n",
    "          top_rated_list.append(top_rated)"
   ]
  },
  {
   "cell_type": "code",
   "execution_count": 131,
   "metadata": {},
   "outputs": [],
   "source": [
    "use_sqlite3 = True\n"
   ]
  },
  {
   "cell_type": "code",
   "execution_count": 149,
   "metadata": {},
   "outputs": [],
   "source": [
    "def create_db(use_sqlite3):\n",
    "    conn = sqlite3.connect('swiggytop.db')\n",
    "    if use_sqlite3:       \n",
    "            conn.execute('''\n",
    "                CREATE TABLE IF NOT EXISTS SWIGGYTOP\n",
    "                    (\n",
    "                        NAME TEXT NOT NULL,\n",
    "                        TYPE TEXT NOT NULL,\n",
    "                        RATING REAL NOT NULL,\n",
    "                        DELIVIERY_TIME INT NOT NULL,\n",
    "                        PRICE_FOR_TWO REAL NOT NULL,\n",
    "                        DISCOUNT REAL,\n",
    "                        DISCOUNT_CODE TEXT\n",
    "                    );\n",
    "            ''')\n",
    "            print(\"Table Created\")\n",
    "            conn.close()"
   ]
  },
  {
   "cell_type": "code",
   "execution_count": 152,
   "metadata": {},
   "outputs": [],
   "source": [
    "def write_data(data):\n",
    "    conn = sqlite3.connect('swiggytop.db')\n",
    "    for value in  data:\n",
    "        query = f'''\n",
    "                INSERT INTO SWIGGYTOP\n",
    "                (\n",
    "                    NAME,\n",
    "                    TYPE,\n",
    "                    RATING,\n",
    "                    DELIVIERY_TIME,\n",
    "                    PRICE_FOR_TWO,\n",
    "                    DISCOUNT,\n",
    "                    DISCOUNT_CODE)\n",
    "                VALUES({value[\"name\"]},{value[\"type\"]},{value[\"rating\"]},{value[\"deliviery_time\"]},{value[\"price_for_two\"]},{value[\"discount\"]},{value[\"discount_code\"]})    \n",
    "                '''\n",
    "        cur = conn.cursor()\n",
    "        cur.execute(query)\n",
    "        conn.commit()\n",
    "    conn.close()\n",
    "    return cur.lastrowid"
   ]
  },
  {
   "cell_type": "code",
   "execution_count": 153,
   "metadata": {},
   "outputs": [
    {
     "name": "stdout",
     "output_type": "stream",
     "text": [
      "Table Created\n"
     ]
    },
    {
     "ename": "OperationalError",
     "evalue": "near \"Waffle\": syntax error",
     "output_type": "error",
     "traceback": [
      "\u001b[1;31m---------------------------------------------------------------------------\u001b[0m",
      "\u001b[1;31mOperationalError\u001b[0m                          Traceback (most recent call last)",
      "\u001b[1;32m~\\AppData\\Local\\Temp/ipykernel_16992/368134925.py\u001b[0m in \u001b[0;36m<module>\u001b[1;34m\u001b[0m\n\u001b[0;32m      1\u001b[0m \u001b[0mcreate_db\u001b[0m\u001b[1;33m(\u001b[0m\u001b[1;32mTrue\u001b[0m\u001b[1;33m)\u001b[0m\u001b[1;33m\u001b[0m\u001b[1;33m\u001b[0m\u001b[0m\n\u001b[1;32m----> 2\u001b[1;33m \u001b[0mwrite_data\u001b[0m\u001b[1;33m(\u001b[0m\u001b[0mtop_rated_list\u001b[0m\u001b[1;33m)\u001b[0m\u001b[1;33m\u001b[0m\u001b[1;33m\u001b[0m\u001b[0m\n\u001b[0m",
      "\u001b[1;32m~\\AppData\\Local\\Temp/ipykernel_16992/662690502.py\u001b[0m in \u001b[0;36mwrite_data\u001b[1;34m(data)\u001b[0m\n\u001b[0;32m     15\u001b[0m                 '''\n\u001b[0;32m     16\u001b[0m         \u001b[0mcur\u001b[0m \u001b[1;33m=\u001b[0m \u001b[0mconn\u001b[0m\u001b[1;33m.\u001b[0m\u001b[0mcursor\u001b[0m\u001b[1;33m(\u001b[0m\u001b[1;33m)\u001b[0m\u001b[1;33m\u001b[0m\u001b[1;33m\u001b[0m\u001b[0m\n\u001b[1;32m---> 17\u001b[1;33m         \u001b[0mcur\u001b[0m\u001b[1;33m.\u001b[0m\u001b[0mexecute\u001b[0m\u001b[1;33m(\u001b[0m\u001b[0mquery\u001b[0m\u001b[1;33m)\u001b[0m\u001b[1;33m\u001b[0m\u001b[1;33m\u001b[0m\u001b[0m\n\u001b[0m\u001b[0;32m     18\u001b[0m         \u001b[0mconn\u001b[0m\u001b[1;33m.\u001b[0m\u001b[0mcommit\u001b[0m\u001b[1;33m(\u001b[0m\u001b[1;33m)\u001b[0m\u001b[1;33m\u001b[0m\u001b[1;33m\u001b[0m\u001b[0m\n\u001b[0;32m     19\u001b[0m     \u001b[0mconn\u001b[0m\u001b[1;33m.\u001b[0m\u001b[0mclose\u001b[0m\u001b[1;33m(\u001b[0m\u001b[1;33m)\u001b[0m\u001b[1;33m\u001b[0m\u001b[1;33m\u001b[0m\u001b[0m\n",
      "\u001b[1;31mOperationalError\u001b[0m: near \"Waffle\": syntax error"
     ]
    }
   ],
   "source": [
    "create_db(True)\n",
    "write_data(top_rated_list)"
   ]
  },
  {
   "cell_type": "code",
   "execution_count": null,
   "metadata": {},
   "outputs": [],
   "source": [
    "conn.execute(\"SELECT * FROM SWIGGYTOP\")\n",
    "cursor = conn.cursor()\n",
    "cursor.fetchall()"
   ]
  }
 ],
 "metadata": {
  "interpreter": {
   "hash": "770de8dd6b209f8d3e8fd0cc8c5ca67965109b50de697453c6f2fa2334472852"
  },
  "kernelspec": {
   "display_name": "Python 3.9.7 ('base')",
   "language": "python",
   "name": "python3"
  },
  "language_info": {
   "codemirror_mode": {
    "name": "ipython",
    "version": 3
   },
   "file_extension": ".py",
   "mimetype": "text/x-python",
   "name": "python",
   "nbconvert_exporter": "python",
   "pygments_lexer": "ipython3",
   "version": "3.9.7"
  },
  "orig_nbformat": 4
 },
 "nbformat": 4,
 "nbformat_minor": 2
}
