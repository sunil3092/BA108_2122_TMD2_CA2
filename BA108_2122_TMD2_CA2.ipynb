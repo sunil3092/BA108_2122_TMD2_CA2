{
 "cells": [
  {
   "cell_type": "markdown",
   "metadata": {},
   "source": [
    "## <p style=\"text-align: center;\">BA108_2122_TMD2_CA_2</p>\n",
    "### <p style=\"text-align: center;\"> Details </p>\n",
    "#### <p style=\"text-align: center;\">Name: Sunil Judhistira Gauda</p>\n",
    "#### <p style=\"text-align: center;\">Student ID : 10595858 </p>\n",
    "##### <p style=\"text-align: center;\">Github : https://github.com/sunil3092/BA108_2122_TMD2_CA2 </p>"
   ]
  },
  {
   "cell_type": "code",
   "execution_count": 96,
   "metadata": {},
   "outputs": [],
   "source": [
    "import requests as req\n",
    "import pandas as pd\n",
    "from bs4 import BeautifulSoup"
   ]
  },
  {
   "cell_type": "code",
   "execution_count": 97,
   "metadata": {},
   "outputs": [],
   "source": [
    "def manage_tags(html, tags):\n",
    "    soup = BeautifulSoup(html, \"html.parser\")\n",
    "\n",
    "    for page_data in soup(tags):\n",
    "        page_data.decompose()\n",
    "\n",
    "    return ''.join(soup.stripped_strings)"
   ]
  },
  {
   "cell_type": "code",
   "execution_count": 98,
   "metadata": {},
   "outputs": [],
   "source": [
    "top_rated_list = []"
   ]
  },
  {
   "cell_type": "code",
   "execution_count": 99,
   "metadata": {},
   "outputs": [],
   "source": [
    "url = \"https://www.swiggy.com/city/mumbai/top-rated-collection\"\n",
    "request = req.get(url)\n",
    "soup = BeautifulSoup(request.content)\n",
    "div = soup.find_all(\"div\", {\"class\" : \"_3FR5S\"})"
   ]
  },
  {
   "cell_type": "code",
   "execution_count": 101,
   "metadata": {},
   "outputs": [
    {
     "data": {
      "text/plain": [
       "{'name': 'TBHC',\n",
       " 'type': 'Beverages, Pastas, American, Snacks',\n",
       " 'rating': '5.0',\n",
       " 'deliviery_time': '70 MINS',\n",
       " 'price_for_two': '₹750 FOR TWO',\n",
       " 'discount_code': '50% off | Use WELCOME50'}"
      ]
     },
     "execution_count": 101,
     "metadata": {},
     "output_type": "execute_result"
    }
   ],
   "source": [
    "for i in range( len(div)):\n",
    "     top_rated = {}\n",
    "     top_rated[\"name\"] = div[i].find(\"div\", {\"class\" : \"nA6kb\"}).text\n",
    "     top_rated[\"type\"] = div[i].find(\"div\", {\"class\" : \"_1gURR\"}).text\n",
    "     top_rated[\"rating\"] = div[i].find(\"div\", {\"class\" : \"_9uwBC\"}).text\n",
    "     stringValue = div[i].find(\"div\", {\"class\" : \"_3Mn31\"}).text\n",
    "     split_string = stringValue.split(\"•\")\n",
    "     top_rated[\"deliviery_time\"] = split_string[1]\n",
    "     top_rated[\"price_for_two\"] = split_string[2]\n",
    "     top_rated[\"discount_code\"] = div[i].find(\"span\", {\"class\" : \"sNAfh\"}).text\n",
    "     top_rated_list.append(top_rated)\n",
    "top_rated_list[0]"
   ]
  },
  {
   "cell_type": "code",
   "execution_count": null,
   "metadata": {},
   "outputs": [],
   "source": []
  }
 ],
 "metadata": {
  "interpreter": {
   "hash": "770de8dd6b209f8d3e8fd0cc8c5ca67965109b50de697453c6f2fa2334472852"
  },
  "kernelspec": {
   "display_name": "Python 3.9.7 ('base')",
   "language": "python",
   "name": "python3"
  },
  "language_info": {
   "codemirror_mode": {
    "name": "ipython",
    "version": 3
   },
   "file_extension": ".py",
   "mimetype": "text/x-python",
   "name": "python",
   "nbconvert_exporter": "python",
   "pygments_lexer": "ipython3",
   "version": "3.9.7"
  },
  "orig_nbformat": 4
 },
 "nbformat": 4,
 "nbformat_minor": 2
}
